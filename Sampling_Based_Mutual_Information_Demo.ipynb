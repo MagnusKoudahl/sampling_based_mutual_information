{
 "cells": [
  {
   "cell_type": "markdown",
   "metadata": {},
   "source": [
    "# Mutual Information Estimation Example"
   ]
  },
  {
   "cell_type": "markdown",
   "metadata": {},
   "source": [
    "This repository implements some models and test-cases to estimate the mutual information and conditional mutual information, based on a set of samples from the joint distribution of the associated random variables (e.g. timepoints from some time-series data). The general idea, as discussed below, was around for quite some time, but the idea of actually using it in this way, and experiments comparing this approach with other approaches to estimate the (conditional) mutual information between high-dimensional random variables, were (to the best of my knowledge, please correct me if I missed some important work) first published by Mukherjee et al. (2019; https://arxiv.org/abs/1906.01824) and Ghimire et al. (2020, https://arxiv.org/abs/2002.11187).\n",
    "\n",
    "The following deep-learning and sampling based approach to calculate the mutual information between samples of two high-dimensional variables rests on the following idea: the mutual information $MI(X,Y)$ of two variables $x$, $y$ is the Kullback-Leibler divergence between their joint probability density $p(x,y)$ and the product of their marginals $p(x)p(y)$:\n",
    "\n",
    "$$MI(X,Y) = D_{KL}(p(x,y)||p(x)p(y))$$\n",
    "\n",
    "The Kullback-Leibler divergence of two densities $p$, $q$ is defined as\n",
    "\n",
    "$$D_{KL}(p(x)||q(x)) = \\int p(x) \\log \\left(\\frac{p(x)}{q(x)}\\right)\\mathrm{d}x$$\n",
    "\n",
    "It is zero if, and only if, $p(x) = q(x)$ for all $x$.\n",
    "\n",
    "Recent articles about the discriminator based learning of probability densities (https://arxiv.org/abs/1406.2661, https://arxiv.org/abs/1610.03483, https://arxiv.org/abs/1702.08235, https://arxiv.org/abs/1701.04722, https://arxiv.org/abs/1702.08896) realized and built upon a really cool fact: \n",
    "\n",
    "We can train a deep neural network, $D$, to discriminate between samples $x_i$ from two distributions, $p(x)$ and $q(x)$, using the cross-entropy loss\n",
    "\n",
    "$$ BCE(\\{x_i, y_i\\}) = - \\sum_{i=1}^n y_i\\log(\\sigma(D(x_i))) + (1 - y_i)log(1-\\sigma(D(x_i)))$$\n",
    "\n",
    "where the labels $y_i = y(x_i) = 1$ if $x_i$ was drawn from $p(x)$, and $y_i = y(x_i) = 0$ if $x_i$ was drawn from $q(x)$.\n",
    "\n",
    "If the training of this network converges, and if the network has enough capacity (in terms of numbers of layers and hidden units), $D(x)$ will converge to the log-likelihood ratio $D(x)\\approx \\log\\frac{p(x)}{q(x)}$.\n",
    "\n",
    "Thus, if the network training converged, we can use a large number of samples $x_i$ from $p(x)$ to calculate\n",
    "\n",
    "$$\\frac{1}{n}\\sum_{i=1}^n D(x_i) \\approx \\int p(x) \\log\\frac{p(x)}{q(x)} \\mathrm{d}x = D_{KL}(p(x)||q(x))$$.\n",
    "\n",
    "To really understand this fact, which I'm just stating here, I can heartly recommend the paper Mescheder, Nowozin and Geiger (https://arxiv.org/abs/1701.04722), who nicely explain the underlying maths and give the relevant proofs. But please keep in mind that this and similar ideas were unsurprisingly also developed and discussed in many other great papers; e.g. https://arxiv.org/abs/1406.2661, https://arxiv.org/abs/1610.03483, https://arxiv.org/abs/1702.08235, https://arxiv.org/abs/1702.08896.\n",
    "\n",
    "To use this fact to calculate the mutual information between samples from two high-dimensional random variables, $x$ and $y$, we implement a special case of this approach, where the discriminator learns to discriminate between samples from the joint distribution $p(x,y)$ and samples from the product of the marginal distributions $p(x)p(y)$. By evaluating and averaging the trained classifier, using samples from $p(x,y)$, we can approximates the KL-divergence between $p(x,y)$ and $p(x)p(y)$, $D_{KL}(p(x,y)||p(x)p(y))$, which is just the mutual information MI(X,Y) between the variables $x$ and $y$.\n",
    "\n",
    "Further down, we built on this to implement a sampling based approximation of the conditional mutual information $CMI(X,Y|Z)$ of three random variables $x$, $y$, and $z$.\n",
    "\n",
    "But let us first check out, how the estimation of the mutual information between two variables $x$ and $y$ works in practice using this approach. \n",
    "\n",
    "All we need for this is a sufficient amount of samples of their *joint* distribution, $p(x,y)$. I.e., if $x$ and $y$ where sets of channels from time series data, we need a set of paired values of $x$ and $y$ at the *same time points*.\n",
    "\n",
    "First create samples from one of the implemented example datasets, by running one of the two following cells."
   ]
  },
  {
   "cell_type": "code",
   "execution_count": 1,
   "metadata": {},
   "outputs": [
    {
     "data": {
      "image/png": "[encoded data removed]",
      "text/plain": [
       "<Figure size 432x288 with 1 Axes>"
      ]
     },
     "metadata": {
      "needs_background": "light"
     },
     "output_type": "display_data"
    }
   ],
   "source": [
    "# Example dataset 1: Points on a disk-segment, where the correlation between x and y is zero,\n",
    "# but the mutual information is not (at least in cartesian coordinates)\n",
    "\n",
    "# Show the matplotlib plots within the jupyter notebook\n",
    "%matplotlib inline\n",
    "\n",
    "# Matplotlib for plotting and numpy for matrix manipulations and random numbers\n",
    "import numpy as np\n",
    "import matplotlib.pyplot as plt\n",
    "\n",
    "# Number of samples (e.g. time points) in our synthetic dataset\n",
    "n_samples = 100000\n",
    "\n",
    "# Dimensions of x and y, in theory, they could be quite large. In practice, the sampling\n",
    "# based approximation should work for tens of dimensions\n",
    "dimX = 1\n",
    "dimY = 1\n",
    "\n",
    "# We are going to sample points (x,y) from a disk-segment of the radius range (0.9, 1.0) and\n",
    "# all angles\n",
    "\n",
    "r = np.random.rand(n_samples)*0.1 + 0.9\n",
    "phi = np.random.rand(n_samples)*2*np.pi\n",
    "\n",
    "# The important structure entering our mutual-information estimator is a single data matrix,\n",
    "# where each row contains a single sample of the joint distribution p(x,y)\n",
    "\n",
    "# Create empty data matrix\n",
    "data = np.zeros((n_samples,2))\n",
    "\n",
    "# First column of the data matrix will contain the x-values of the points\n",
    "data[:,0] = np.cos(phi)*r\n",
    "# Second column of the data matrix will contain the y-values of the points\n",
    "data[:,1] = np.sin(phi)*r\n",
    "\n",
    "# Plot the samples from the disk-segment\n",
    "plt.figure()\n",
    "plt.title('Example Dataset 1')\n",
    "plt.scatter(data[:,0],data[:,1])\n",
    "plt.show()\n"
   ]
  },
  {
   "cell_type": "code",
   "execution_count": 2,
   "metadata": {},
   "outputs": [
    {
     "name": "stdout",
     "output_type": "stream",
     "text": [
      "Exact Mutual Information for this instance of example dataset 2: 4.149142\n",
      "\n"
     ]
    }
   ],
   "source": [
    "# Example dataset 2: Multivariate Gaussian with non-diagonal Covariance Matrix\n",
    "# In this special case, the Mutual Information between subsets of the Gaussian's dimensions\n",
    "# can be explicitly calculated, in terms of the determinants of the corresponding sub-matrices\n",
    "# of the covariance matrix\n",
    "\n",
    "# show matplotlin plots directly in the jupyter notebook\n",
    "%matplotlib inline\n",
    "\n",
    "# matplotlib for plotting, numpy for matrix manipulation and random numbers, \n",
    "# scipy for some little extra linear algebra\n",
    "import matplotlib.pyplot as plt\n",
    "import numpy as np\n",
    "from scipy.stats import norm\n",
    "import scipy\n",
    "\n",
    "# number of samples (e.g. time points) in our synthetic dataset\n",
    "n_samples = 100000\n",
    "\n",
    "# dimensionality of random variable X\n",
    "dimX = 3\n",
    "#dimensionality of random variable Y\n",
    "dimY = 5\n",
    " \n",
    "# We are going to draw samples from a multi-variate normal distribution,\n",
    "# with dimensionality n = dimX + dim Y. \n",
    "# We use a zero mean and a random covariance matrix, whose off-diagonal elements\n",
    "# will introduce dependencies between the first dimX dimensions,\n",
    "# which we will use as random variable X, and the last dimY dimensions,\n",
    "# which we will use as random variable Y.\n",
    "# The nice thing is that in this case, there is a closed formula to directly\n",
    "# calculate the mutual information between X and Y from the covariance matrix\n",
    "# of this multi-variate normal distribution.\n",
    "\n",
    "# dimensionality of multi-variate normal distribution\n",
    "n = dimX + dimY\n",
    "\n",
    "# random, but positive definite covariance matrix\n",
    "L = np.random.randn(n,n)\n",
    "cov = np.matmul(L, np.transpose(L))\n",
    "\n",
    "# mean vector of zeros\n",
    "mu = np.zeros(n)\n",
    "\n",
    "# samples\n",
    "data = np.random.multivariate_normal(mu,cov,n_samples)\n",
    "\n",
    "# Exact expression for the mutual information as function of the determinant\n",
    "# of the whole covariance matrix and the sub-matrices corresponding to random \n",
    "# variables X and Y\n",
    "MI_exact = 0.5*np.log(np.linalg.det(cov[:dimX,:dimX])*np.linalg.det(cov[-dimY:,-dimY:])/np.linalg.det(cov))\n",
    "\n",
    "print('Exact mutual information for this instance of example dataset 2: %f\\n' % MI_exact)\n",
    "\n",
    "#### A SPECIAL CASE of the above is the MI as function of \n",
    "#### the correlation between two one-dimensional Gaussian variables\n",
    "# \n",
    "# dim1 = 1\n",
    "# dim2 = 1\n",
    "# \n",
    "# sigma = 0.1\n",
    "# corr = 0.9\n",
    "# \n",
    "# x = np.random.multivariate_normal([0,0],[[sigma, sigma*corr],[sigma*corr, sigma]],100000)\n",
    "# \n",
    "# plt.scatter(x[:,0],x[:,1])\n",
    "# plt.show()\n",
    "# \n",
    "# MI_exact = -0.5*np.log(1-corr**2)\n",
    "# \n",
    "# print('exact MI: %f' % MI_exact)\n",
    "#"
   ]
  },
  {
   "cell_type": "markdown",
   "metadata": {},
   "source": [
    "Now you can run two sampling based estimators of the mutual information, by running the following cell."
   ]
  },
  {
   "cell_type": "code",
   "execution_count": 8,
   "metadata": {
    "scrolled": false
   },
   "outputs": [
    {
     "name": "stdout",
     "output_type": "stream",
     "text": [
      "Shape of input data matrix:\n",
      "(100000, 8)\n",
      "Training Regularized Discriminator\n"
     ]
    },
    {
     "data": {
      "application/vnd.jupyter.widget-view+json": {
       "model_id": "680e84f3a18c4becafc981328465538a",
       "version_major": 2,
       "version_minor": 0
      },
      "text/plain": [
       "HBox(children=(FloatProgress(value=0.0, max=5000.0), HTML(value='')))"
      ]
     },
     "metadata": {},
     "output_type": "display_data"
    },
    {
     "name": "stdout",
     "output_type": "stream",
     "text": [
      "\n",
      "Training Vanilla Discriminator\n"
     ]
    },
    {
     "data": {
      "application/vnd.jupyter.widget-view+json": {
       "model_id": "053530f6f746447386dd8eb2aac14e56",
       "version_major": 2,
       "version_minor": 0
      },
      "text/plain": [
       "HBox(children=(FloatProgress(value=0.0, max=5000.0), HTML(value='')))"
      ]
     },
     "metadata": {},
     "output_type": "display_data"
    },
    {
     "name": "stdout",
     "output_type": "stream",
     "text": [
      "\n",
      "Regularized Approximation: 5.073546\n",
      "\n",
      "Vanilla Approximation: 4.262749\n",
      "\n"
     ]
    }
   ],
   "source": [
    "# Use one of the cells above to create example data, then use this cell to run\n",
    "# both versions of the sampling based approximation of mutual information\n",
    "# (without RKHS regularisation, c.f. https://arxiv.org/abs/1906.01824;\n",
    "# and with RKHS regularisation, c.f. https://arxiv.org/abs/2002.11187)\n",
    "\n",
    "# We implemented two sampling based estimators, based on \n",
    "# https://arxiv.org/abs/1906.01824 (\"Vanilla\")\n",
    "# and https://arxiv.org/abs/2002.11187 (using RKHS-regularisation)\n",
    "from sampling_based_mutual_information import mutual_information_rkhs, mutual_information\n",
    "\n",
    "# Our main input is a single data matrix, where each row is a sample from the joint\n",
    "# distribution p(x,y), i.e. one time point of a simultaneous recording of x and y.\n",
    "# So compare this shape with the dimensionalities dimX and dimY of the datasets created above.\n",
    "print('Shape of input data matrix:')\n",
    "print(data.shape)\n",
    "\n",
    "# Parameters of the deep-learning based discriminator network and the training procedure\n",
    "\n",
    "# Learning rate: If the loss-functions oscillate too much, reduce it. \n",
    "# Reducing the learning rate will require more training iterations.\n",
    "learning_rate = 1e-3\n",
    "# Number of neurons in each of the 2 hidden layers of the discriminator networks\n",
    "n_hidden = 100\n",
    "# Number of samples per mini-batch, which is used in the gradient-based training\n",
    "# algorithm\n",
    "batch_size = 1000\n",
    "# Number of training iterations\n",
    "n_iter = 5000\n",
    "# Clip large gradients during training. This will increase stability, but also slow down\n",
    "# training\n",
    "clip_grad = False\n",
    "# Norm, to which the gradient estimates will be clipped, if clip_grad = True\n",
    "clip_norm = 0.1\n",
    "# If log_mi_every > 0, every log_mi_every iteration the current estimate of the \n",
    "# mutual information will be evaluated and stored. Using this is highly recommended\n",
    "# to examine the convergence of the training procedure.\n",
    "log_mi_every = 100\n",
    "# Number of samples from p(x,y), which will be used for the running estimate of\n",
    "# the mutual information\n",
    "log_mi_samples = 10000\n",
    "\n",
    "# mutual_information_rkhs implements an additional penalty on the complexity of\n",
    "# the discriminator, which aims to stabilise the training and the resulting\n",
    "# mutual information estimates (for details please consult: https://arxiv.org/abs/2002.11187)\n",
    "# Effectively, and additional penalty is added to the categorisation loss \n",
    "# (i.e. the binary cross entropy loss of a classifier, discriminating between\n",
    "# samples from p(x,y) and samples from p(x)p(y).\n",
    "# The additional regularisation cost is weighted by the following parameter.\n",
    "penalty_rkhs = 1e-4\n",
    "\n",
    "# Create the estimator using the RKHS-based complexity regularisation\n",
    "RMI = mutual_information_rkhs(dimX, dimY, data, \n",
    "                              learning_rate = learning_rate, n_hidden = n_hidden, penalty = penalty_rkhs, \n",
    "                              clip_grad = clip_grad, clip_norm = clip_norm,\n",
    "                              log_mi_every = log_mi_every, log_mi_samples = log_mi_samples)\n",
    "\n",
    "# Start training\n",
    "print('Training Regularized Discriminator')\n",
    "RMI.train(n_iter = n_iter, batch_size = batch_size)\n",
    "\n",
    "# Create the \"Vanilla\" estimator\n",
    "MI = mutual_information(dimX, dimY, data, \n",
    "                        learning_rate = learning_rate, n_hidden = n_hidden, \n",
    "                        clip_grad = clip_grad, clip_norm = clip_norm,\n",
    "                        log_mi_every = log_mi_every, log_mi_samples = log_mi_samples)\n",
    "\n",
    "# Start training\n",
    "print('Training Vanilla Discriminator')\n",
    "MI.train(n_iter = n_iter, batch_size = batch_size)\n",
    "\n",
    "# Calculate the mutual information estimates, using the learned discriminator networks\n",
    "print('Regularized Approximation: %f\\n' % RMI.approximate())\n",
    "print('Vanilla Approximation: %f\\n' % MI.approximate())"
   ]
  },
  {
   "cell_type": "markdown",
   "metadata": {},
   "source": [
    "It is really important to always plot the learning curves of the discriminators. This allows you to have a look at the evolution of the loss function and the learned mutual information estimates during training, which in turn allows you to spot failures of the discriminator to converge."
   ]
  },
  {
   "cell_type": "code",
   "execution_count": 9,
   "metadata": {
    "scrolled": false
   },
   "outputs": [
    {
     "data": {
      "image/png": "[encoded data removed]",
      "text/plain": [
       "<Figure size 432x288 with 1 Axes>"
      ]
     },
     "metadata": {
      "needs_background": "light"
     },
     "output_type": "display_data"
    },
    {
     "data": {
      "image/png": "[encoded data removed]",
      "text/plain": [
       "<Figure size 432x288 with 1 Axes>"
      ]
     },
     "metadata": {
      "needs_background": "light"
     },
     "output_type": "display_data"
    }
   ],
   "source": [
    "# Plot the curves of the training losses.\n",
    "# THIS IS AN IMPORTANT STEP TO DIAGNOSE CONVERGENCE, WHICH ALWAYS SHOULD BE DONE,\n",
    "# WHENEVER YOU ARE USING DEEP LEARNING OR SAMPLING BASED APPROXIMATIONS\n",
    "# Remember: Here you're using *both*.\n",
    "\n",
    "plt.figure()\n",
    "plt.plot(MI.losses)\n",
    "plt.plot(RMI.losses)\n",
    "plt.title('Loss')\n",
    "plt.legend(['Vanilla','RKHS'])\n",
    "plt.xlabel('training iteration')\n",
    "plt.ylabel('loss')\n",
    "plt.show()\n",
    "\n",
    "plt.figure()\n",
    "plt.plot(MI.approximations)\n",
    "plt.plot(RMI.approximations)\n",
    "plt.title('MI estimate')\n",
    "plt.legend(['Vanilla','RKHS'])\n",
    "plt.xlabel('training iteration/log_mi_every')\n",
    "plt.ylabel('loss')\n",
    "plt.show()"
   ]
  },
  {
   "cell_type": "markdown",
   "metadata": {},
   "source": [
    "# Conditional Mutual Information Estimation Example"
   ]
  },
  {
   "cell_type": "markdown",
   "metadata": {},
   "source": [
    "Here we show how to use a sampling-based approximation of the conditional mutual information, as proposed by Mukherjee et al. (2019; https://arxiv.org/abs/1906.01824).\n",
    "\n",
    "The basic idea is the following: We can calculate the conditional mutual information of $x$ and $y$, given a third random variable $z$, $CMI(X,Y|Z)$, via the differences:\n",
    "\n",
    "$$CMI(X,Y|Z) = MI(X,YZ) - MI(X,Z) = MI(Y,XZ) - MI(Y,Z)$$\n",
    "\n",
    "Due to the symmetry of the conditional mutual information in $x$ and $y$, and the symmetry of the mutual information in the two arguments, both differences should in principle give the same answer and work equally well.\n",
    "\n",
    "*In practice*, however, the discriminator networks, which are learned to approximate the individual mutual informations, might differ substantially in their convergence properties. Thus, I'd recommed using the \"both_dir = True\" option in the constructor of the conditional_mutual_information class. This way, all four mutual informations of the equation above will be estimated and both ways of partitioning the conditional mutual information into a difference of two mutual informations will be used. They *should* give the same answer, if all four networks - $MI(X,YZ)$, $MI(X,Z)$, $MI(Y,XZ)$, and $MI(Y,Z)$ - converged."
   ]
  },
  {
   "cell_type": "markdown",
   "metadata": {},
   "source": [
    "First create samples from an example distribution p(x,y,z), following Mukherjee et al. (2019; https://arxiv.org/abs/1906.01824)"
   ]
  },
  {
   "cell_type": "code",
   "execution_count": 10,
   "metadata": {},
   "outputs": [
    {
     "data": {
      "image/png": "[encoded data removed]",
      "text/plain": [
       "<Figure size 432x288 with 1 Axes>"
      ]
     },
     "metadata": {
      "needs_background": "light"
     },
     "output_type": "display_data"
    }
   ],
   "source": [
    "%matplotlib inline\n",
    "\n",
    "import matplotlib.pyplot as plt\n",
    "import numpy as np\n",
    "from scipy.stats import norm\n",
    "\n",
    "# Demo model, also used in Mukherjee et al. (2019; https://arxiv.org/abs/1906.01824)\n",
    "# The ground truth value of 2.3 was calculated using numerical integration by the authors\n",
    "# of this paper (c.f. Fig. 2a).\n",
    "\n",
    "# We want to compute MI(X,Y|Z) later.\n",
    "\n",
    "n_samples = 1000000\n",
    "\n",
    "dimZ = 20\n",
    "\n",
    "# X is drawn from a one-dimensional standard normal distribution\n",
    "x = np.random.randn(n_samples).reshape(n_samples,1)\n",
    "\n",
    "# Z is drawn from a dimZ-dimensional uniform distribution on [-0.5,0.5]^dimZ\n",
    "z = np.random.rand(n_samples, dimZ) - 0.5\n",
    "\n",
    "sigma_epsilon = 0.1\n",
    "\n",
    "# Epsilon is drawn from a one-dimensional normal distribution with mean z_1 and standard\n",
    "# deviation 0.1\n",
    "epsilon = (np.random.randn(n_samples)*sigma_epsilon + z[:,0]).reshape(n_samples,1)\n",
    "\n",
    "# Y is the sum of x and epsilon\n",
    "y = x + epsilon\n",
    "\n",
    "plt.figure()\n",
    "plt.title('Y vs X')\n",
    "plt.scatter(x,y)\n",
    "plt.xlabel('x')\n",
    "plt.ylabel('y')\n",
    "plt.show()"
   ]
  },
  {
   "cell_type": "markdown",
   "metadata": {},
   "source": [
    "Now train a sampling based extimator of the conditional mutual information CMI(X,Y|Z), whose true value was estimated by Mukherjee et al. (2019; https://arxiv.org/abs/1906.01824) to about 2.3."
   ]
  },
  {
   "cell_type": "code",
   "execution_count": null,
   "metadata": {},
   "outputs": [],
   "source": [
    "from sampling_based_mutual_information import conditional_mutual_information\n",
    "\n",
    "data = np.concatenate((x,y,z),axis = 1)\n",
    "\n",
    "# Learning rate: If the loss-functions oscillate too much, reduce it.  \n",
    "# Reducing the learning rate will require more training iterations.\n",
    "learning_rate = 1e-3\n",
    "# Number of neurons in each of the 2 hidden layers of the discriminator networks\n",
    "n_hidden = 100\n",
    "# Number of samples per mini-batch, which is used in the gradient-based training\n",
    "# algorithm\n",
    "batch_size = 1000\n",
    "# Number of training iterations\n",
    "n_iter = 5000\n",
    "# Clip large gradients during training. This will increase stability, but also slow down\n",
    "# training\n",
    "clip_grad = False\n",
    "# Norm, to which the gradient estimates will be clipped, if clip_grad = True\n",
    "clip_norm = 0.1\n",
    "# If log_mi_every > 0, every log_mi_every iteration the current estimate of the \n",
    "# mutual information will be evaluated and stored. Using this is highly recommended\n",
    "# to examine the convergence of the training procedure.\n",
    "log_mi_every = 100\n",
    "# Number of samples from p(x,y), which will be used for the running estimate of\n",
    "# the mutual information\n",
    "log_mi_samples = 10000\n",
    "\n",
    "# mutual_information_rkhs implements an additional penalty on the complexity of\n",
    "# the discriminator, which aims to stabilise the training and the resulting\n",
    "# mutual information estimates (for details please consult: https://arxiv.org/abs/2002.11187)\n",
    "# Effectively, and additional penalty is added to the categorisation loss \n",
    "# (i.e. the binary cross entropy loss of a classifier, discriminating between\n",
    "# samples from p(x,y) and samples from p(x)p(y).\n",
    "# The additional regularisation cost is weighted by the following parameter.\n",
    "penalty_rkhs = 1e-3\n",
    "\n",
    "CMI = conditional_mutual_information(1, 1, dimZ, data, \n",
    "                                     learning_rate = learning_rate, n_hidden = n_hidden, \n",
    "                                     clip_grad = clip_grad, clip_norm = clip_norm, \n",
    "                                     use_rkhs = use_rkhs, rkhs_penalty = rkhs_penalty, \n",
    "                                     both_dir = both_dir,\n",
    "                                     log_mi_every = log_mi_every, log_mi_samples = log_mi_samples)\n",
    "\n",
    "CMI.train(n_iter = n_iter, batch_size = batch_size)\n",
    "\n",
    "print('Sampling based approximation or approximations (both_dir = True: both equivalent decompositions of conditional mutual information as difference of mutual informations):')\n",
    "print(CMI.approximate())\n",
    "\n"
   ]
  },
  {
   "cell_type": "markdown",
   "metadata": {},
   "source": [
    "Plotting the training curves is absolutely essential, to check if the discriminator training really converged. Just by examining the final conditional mutual information estimates, it is not possible to spot convergence failure."
   ]
  },
  {
   "cell_type": "code",
   "execution_count": null,
   "metadata": {
    "scrolled": false
   },
   "outputs": [],
   "source": [
    "%matplotlib inline\n",
    "\n",
    "plt.figure()\n",
    "plt.plot(CMI.MI_X_YZ.losses)\n",
    "plt.plot(CMI.MI_X_Z.losses)\n",
    "plt.title('forward loss')\n",
    "plt.legend(['MI(X,YZ)','MI(X,Z)'])\n",
    "plt.xlabel('training iteration')\n",
    "plt.ylabel('loss')\n",
    "plt.show()\n",
    "\n",
    "plt.figure()\n",
    "plt.plot(CMI.MI_Y_XZ.losses)\n",
    "plt.plot(CMI.MI_Y_Z.losses)\n",
    "plt.title('backward loss')\n",
    "plt.legend(['MI(Y,XZ)','MI(Y,Z)'])\n",
    "plt.xlabel('training iteration')\n",
    "plt.ylabel('loss')\n",
    "plt.show()\n",
    "\n",
    "plt.figure()\n",
    "plt.plot(CMI.MI_X_YZ.approximations)\n",
    "plt.plot(CMI.MI_X_Z.approximations)\n",
    "plt.plot(np.asarray(CMI.MI_X_YZ.approximations) - np.asarray(CMI.MI_X_Z.approximations))\n",
    "plt.title('forward')\n",
    "plt.legend(['MI(X,YZ)','MI(X,Z)','CMI(X,Y|Z)'])\n",
    "plt.xlabel('training iteration/log_mi_every')\n",
    "plt.ylabel('loss')\n",
    "plt.show()\n",
    "\n",
    "plt.figure()\n",
    "plt.plot(CMI.MI_Y_XZ.approximations)\n",
    "plt.plot(CMI.MI_Y_Z.approximations)\n",
    "plt.plot(np.asarray(CMI.MI_Y_XZ.approximations) - np.asarray(CMI.MI_Y_Z.approximations))\n",
    "plt.title('backward')\n",
    "plt.legend(['MI(Y,XZ)','MI(Y,Z)','CMI(X,Y|Z)'])\n",
    "plt.xlabel('training iteration/log_mi_every')\n",
    "plt.ylabel('loss')\n",
    "plt.show()"
   ]
  },
  {
   "cell_type": "markdown",
   "metadata": {},
   "source": [
    "# Some intuition and connections w.r.t. the Binary Cross-Entropy loss\n",
    "\n",
    "## Binary cross entropy as log-likelihood of a Bernoulli model\n",
    "\n",
    "Let's say we have a dataset consisting of high-dimensional datapoints $x_i \\in \\mathbb{R}^d$, which were drawn from two different distributions $p(x|y)$, where $y\\in \\{ 0,1 \\}$.\n",
    "\n",
    "Let us describe the true, underlying data distribution $p(x,y) = p(y|x)p(x)$ in terms of the a priori probabiliy of a sample having a specific value of $p(x)$ and the conditional probability on the class labels $p(y|x)$.\n",
    "\n",
    "We want to learn a conditional Bernoulli distribution, using a deep neural network $D$, to give us an estimate of the conditional probability $p_\\mathrm{est}(y = 1|x_i) = \\hat{y}_i = \\sigma(D(x_i))$ for a given datapoint $x_i$, where $\\sigma(x) = \\frac{1}{1 + e^{-x}}$ is the sigmoid function. \n",
    "\n",
    "Assuming i.i.d samples from the data distribution, we can write down the likelihood of a sample of datapoints $(x_i, y_i), i=1, ..., n$ under this model:\n",
    "\n",
    "$$L(\\{(x_i, y_i)\\}) = \\prod_{i=1}^n p(y_i | x_i)$$\n",
    "\n",
    "Where the likelihood of a single datapoint $L(x_i, y_i)$ is given by $L(x_i, y_i) = p_\\mathrm{est}(y=y_i|x_i) = \\begin{cases}\n",
    "\\sigma(D(x)), \\text{if } y = 1\\\\\n",
    "1 - \\sigma(D(x)), \\text{if } y = 0\n",
    "\\end{cases}$\n",
    "\n",
    "Thus, we see that the binary cross entropy loss just corresponds to the log-likelihood of the data under the model $p_\\mathrm{est}(y|x)$:\n",
    "$$ BCE(\\{x_i, y_i\\} = \\sum_{i=1}^n \\log L(x_i, y_i) = \\log L(\\{(x_i, y_i)\\})$$ \n",
    "\n",
    "## Binary cross entropy as Kullback-Leibler divergence between true posterior on class labels and modeled Bernoulli distribution\n",
    "\n",
    "Just to give a short intuition, w.r.t. the binary cross entropy loss above: You could also see it as the average KL-divergence of the learned and the true categorical distribution of labels $y$, given a data point $x$. Where \n",
    "Continueing with the definitions above, we can interpret the true class labels $y(x)$ as defining the true posterior distribution $p(y|x)$, via:\n",
    "\n",
    "$$y(x) = p(y=1|x) = \\begin{cases}\n",
    "                    1, \\text{if } x ~ p(x)\\\\\n",
    "                    0, \\text{if } x ~ q(x)\n",
    "                    \\end{cases}$$\n",
    "                    \n",
    "Remember, that we want to use our deep neural network to model a conditional Bernouilli distribution on the class labels, via $p_\\mathrm{est}(y=1|x) = \\hat{y} = \\sigma(D(x))$.\n",
    "                    \n",
    "Thus, we can write \n",
    "\n",
    "$$\n",
    "\\begin{align}\n",
    "D_\\mathrm{KL}(p(x,y)||p_\\mathrm{est}(x,y)) & = & \\int_x \\left(  p(y=1|x)p(x)\\log\\left(\\frac{p(y=1|x)p(x)}{p_\\mathrm{est}(y=1|x)p(x)}\\right) + p(y=0|x)p(x)\\log\\left(\\frac{p(y=0|x)p(x)}{p_\\mathrm{est}(y=0|x)p(x)}\\right) \\right) \\mathrm{d}x\\\\\n",
    "& = & \\int_x \\left(  p(y=1|x)\\log\\left(\\frac{p(y=1|x)}{p_\\mathrm{est}(y=1|x)}\\right) + p(y=0|x)\\log\\left(\\frac{p(y=0|x)}{p_\\mathrm{est}(y=0|x)}\\right) \\right)p(x) \\mathrm{d}x\\\\\n",
    "& \\approx & \\sum_{x_i}\\left[ p(y=1|x_i)\\log\\left(\\frac{p(y=1|x_i)}{p_\\mathrm{est}(y=1|x_i)}\\right) + p(y=0|x_i)\\log\\left(\\frac{p(y=0|x_i)}{p_\\mathrm{est}(y=0|x_i)}\\right) \\right]\\\\\n",
    "& = & - \\sum_{x_i}\\left[ y_i \\log\\left(p_\\mathrm{est}(y=1|x_i)\\right) + (1-y_i)\\log\\left(p_\\mathrm{est}(y=0|x_i)\\right) + \\underbrace{H(p(y|x_i))}_{=0}\\right]\\\\\n",
    "& = & - \\sum_{x_i}\\left[ y_i \\log\\left(\\sigma(D(x_i))\\right) + (1-y_i)\\log\\left(1-\\sigma(D(x_i)\\right)\\right]\\\\\n",
    "& = & BCE(\\{x_i, y_i\\}\n",
    "\\end{align}\n",
    "$$\n",
    "where $y_i = y(x_i) = p(y_i = 1|x_i)$ are the true labels, i.e. $p(y_i = 0 | x_i) = 1 - y_i$, and the model gives $p_\\mathrm{est}(y=1|x_i) = \\hat{y}_i = \\sigma(D(x_i))$ and $p_\\mathrm{est}(y=0|x_i) = 1 - \\hat{y}_i = 1 - \\sigma(D(x_i))$ .\n",
    "\n",
    "\n",
    "Thus, assuming i.i.d samples from the data distribution, we can also write \n",
    "$$ BCE(\\{x_i, y_i\\} = \\sum_{i=1}^n \\log L(x_i, y_i)$$\n",
    "I.e. the binary cross entropy can also be seen as the log-likelihood of the data $\\{x_i, y_i\\}$ under the learned model distribution $p_\\mathrm{est}(y|x)$."
   ]
  },
  {
   "cell_type": "code",
   "execution_count": null,
   "metadata": {},
   "outputs": [],
   "source": []
  }
 ],
 "metadata": {
  "kernelspec": {
   "display_name": "Python 3",
   "language": "python",
   "name": "python3"
  },
  "language_info": {
   "codemirror_mode": {
    "name": "ipython",
    "version": 3
   },
   "file_extension": ".py",
   "mimetype": "text/x-python",
   "name": "python",
   "nbconvert_exporter": "python",
   "pygments_lexer": "ipython3",
   "version": "3.6.5"
  }
 },
 "nbformat": 4,
 "nbformat_minor": 2
}
